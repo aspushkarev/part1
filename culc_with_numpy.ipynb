{
  "nbformat": 4,
  "nbformat_minor": 0,
  "metadata": {
    "colab": {
      "name": "culc_with_numpy.ipynb",
      "provenance": [],
      "collapsed_sections": []
    },
    "kernelspec": {
      "name": "python3",
      "display_name": "Python 3"
    },
    "language_info": {
      "name": "python"
    }
  },
  "cells": [
    {
      "cell_type": "code",
      "execution_count": 1,
      "metadata": {
        "id": "ALfiTP8xN1tt",
        "colab": {
          "base_uri": "https://localhost:8080/"
        },
        "outputId": "fb6f8558-e79b-4755-b6e2-356ef4997a0a"
      },
      "outputs": [
        {
          "output_type": "stream",
          "name": "stdout",
          "text": [
            "Requirement already satisfied: numpy in /usr/local/lib/python3.7/dist-packages (1.19.5)\n"
          ]
        }
      ],
      "source": [
        "!pip install numpy"
      ]
    },
    {
      "cell_type": "code",
      "source": [
        "# Задание 1\n",
        "import numpy as np\n",
        "a = np.array([[1,6],\n",
        "              [2,8],\n",
        "              [3,11],\n",
        "              [3,10],\n",
        "              [1,7]])\n",
        "print(a)\n",
        "print('Dimension', format(a.ndim))  # Размерность\n",
        "print('Shape', format(a.shape))     # Форма\n",
        "\n",
        "mean_a = np.mean(a, axis=0)         # Ищем среднее значение по каждому признаку\n",
        "# np.mean(a, axis=0, out=mean_a)\n",
        "print(mean_a)"
      ],
      "metadata": {
        "colab": {
          "base_uri": "https://localhost:8080/"
        },
        "id": "BrZNF9ng6h4j",
        "outputId": "be2ee421-2bcf-4994-d272-7f2d7c2fbd28"
      },
      "execution_count": 2,
      "outputs": [
        {
          "output_type": "stream",
          "name": "stdout",
          "text": [
            "[[ 1  6]\n",
            " [ 2  8]\n",
            " [ 3 11]\n",
            " [ 3 10]\n",
            " [ 1  7]]\n",
            "Dimension 2\n",
            "Shape (5, 2)\n",
            "[2.  8.4]\n"
          ]
        }
      ]
    },
    {
      "cell_type": "code",
      "source": [
        "\n",
        "# Задание 2\n",
        "a_centered = a - mean_a\n",
        "print(a_centered)\n"
      ],
      "metadata": {
        "colab": {
          "base_uri": "https://localhost:8080/"
        },
        "id": "yPdw3GaX_Q6g",
        "outputId": "273b12df-ee15-4b4c-c16b-527f7f7bc093"
      },
      "execution_count": 3,
      "outputs": [
        {
          "output_type": "stream",
          "name": "stdout",
          "text": [
            "[[-1.  -2.4]\n",
            " [ 0.  -0.4]\n",
            " [ 1.   2.6]\n",
            " [ 1.   1.6]\n",
            " [-1.  -1.4]]\n"
          ]
        }
      ]
    },
    {
      "cell_type": "code",
      "source": [
        "# Задание 3\n",
        "from functools import reduce\n",
        "a_centered_sp = 0\n",
        "multiplication = 0\n",
        "for i in a_centered:\n",
        "  multiplication = reduce(lambda x, y: x*y, i)\n",
        "  # print(multiplication)\n",
        "  a_centered_sp += multiplication\n",
        "print('Scalar multiplication is', a_centered_sp)\n",
        "covariation = a_centered_sp / 4\n",
        "print('Covariation is', covariation)"
      ],
      "metadata": {
        "colab": {
          "base_uri": "https://localhost:8080/"
        },
        "id": "27gDoZFgkrta",
        "outputId": "7dc6a70b-6cad-4f8e-9ec8-bdd74c5ee829"
      },
      "execution_count": 4,
      "outputs": [
        {
          "output_type": "stream",
          "name": "stdout",
          "text": [
            "Scalar multiplication is 8.0\n",
            "Covariation is 2.0\n"
          ]
        }
      ]
    },
    {
      "cell_type": "code",
      "source": [
        "# Задание 4\n",
        "arr_transpose = a.transpose()  # Траспонируем матрицу с помощью функции transpose()\n",
        "print(arr_transpose)\n",
        "arr_cov = np.cov(arr_transpose) # Вычисляем ковариацию с помощью функции np.cov()\n",
        "print(arr_cov)\n",
        "print('Covariation is', arr_cov[0][1])"
      ],
      "metadata": {
        "colab": {
          "base_uri": "https://localhost:8080/"
        },
        "id": "Tk1moGDDC77k",
        "outputId": "1d8c7d6c-06eb-4952-eb24-ab94742107d6"
      },
      "execution_count": 5,
      "outputs": [
        {
          "output_type": "stream",
          "name": "stdout",
          "text": [
            "[[ 1  2  3  3  1]\n",
            " [ 6  8 11 10  7]]\n",
            "[[1.  2. ]\n",
            " [2.  4.3]]\n",
            "Covariation is 2.0\n"
          ]
        }
      ]
    }
  ]
}