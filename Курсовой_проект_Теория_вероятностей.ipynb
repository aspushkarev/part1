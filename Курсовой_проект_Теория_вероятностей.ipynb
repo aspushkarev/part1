{
  "nbformat": 4,
  "nbformat_minor": 0,
  "metadata": {
    "colab": {
      "name": "Курсовой_проект_Теория вероятностей.ipynb",
      "provenance": [],
      "collapsed_sections": []
    },
    "kernelspec": {
      "name": "python3",
      "display_name": "Python 3"
    },
    "language_info": {
      "name": "python"
    }
  },
  "cells": [
    {
      "cell_type": "markdown",
      "source": [
        "Провести разведочный анализ данных (EDA) датасета Data Science Job Salaries взятого с Kaggle.com.\n",
        "Проверить гипотезу, что зарплата специалистов уровня Junior меньше, чем специалистов уровня Senior.\n",
        "По зарплате рассчитать основные статистические показатели: мода, медиана, квартили, дисперсию.\n",
        "Подсчитать корреляцию между зарплатой, страной, компанией. Составить матрицу корреляции"
      ],
      "metadata": {
        "id": "5ulnJk89g9Ay"
      }
    },
    {
      "cell_type": "code",
      "source": [
        "import numpy as np\n",
        "import pandas as pd\n",
        "import matplotlib.pyplot as plt\n",
        "import seaborn as sns\n",
        "import warnings\n",
        "\n",
        "warnings.filterwarnings('ignore')"
      ],
      "metadata": {
        "id": "Zn1B0lfxhLXY"
      },
      "execution_count": 52,
      "outputs": []
    },
    {
      "cell_type": "code",
      "execution_count": 53,
      "metadata": {
        "id": "foO2pGtygkUD"
      },
      "outputs": [],
      "source": [
        "data = pd.read_csv('ds_salaries.csv', encoding='cp1251')"
      ]
    },
    {
      "cell_type": "code",
      "source": [
        "data.shape"
      ],
      "metadata": {
        "colab": {
          "base_uri": "https://localhost:8080/"
        },
        "id": "tDbsqgAPiXqZ",
        "outputId": "f1df4baa-702b-436b-ccf1-fe41b2ace119"
      },
      "execution_count": 54,
      "outputs": [
        {
          "output_type": "execute_result",
          "data": {
            "text/plain": [
              "(607, 12)"
            ]
          },
          "metadata": {},
          "execution_count": 54
        }
      ]
    },
    {
      "cell_type": "code",
      "source": [
        "data.head(5)"
      ],
      "metadata": {
        "colab": {
          "base_uri": "https://localhost:8080/",
          "height": 426
        },
        "id": "yDWOo32nicul",
        "outputId": "822072ad-4b21-4290-fa8a-a263b22c3dcf"
      },
      "execution_count": 55,
      "outputs": [
        {
          "output_type": "execute_result",
          "data": {
            "text/plain": [
              "   Unnamed: 0  work_year experience_level employment_type  \\\n",
              "0           0       2020               MI              FT   \n",
              "1           1       2020               SE              FT   \n",
              "2           2       2020               SE              FT   \n",
              "3           3       2020               MI              FT   \n",
              "4           4       2020               SE              FT   \n",
              "\n",
              "                    job_title  salary salary_currency  salary_in_usd  \\\n",
              "0              Data Scientist   70000             EUR          79833   \n",
              "1  Machine Learning Scientist  260000             USD         260000   \n",
              "2           Big Data Engineer   85000             GBP         109024   \n",
              "3        Product Data Analyst   20000             USD          20000   \n",
              "4   Machine Learning Engineer  150000             USD         150000   \n",
              "\n",
              "  employee_residence  remote_ratio company_location company_size  \n",
              "0                 DE             0               DE            L  \n",
              "1                 JP             0               JP            S  \n",
              "2                 GB            50               GB            M  \n",
              "3                 HN             0               HN            S  \n",
              "4                 US            50               US            L  "
            ],
            "text/html": [
              "\n",
              "  <div id=\"df-8842a6a3-5a61-47a7-8051-a8ebecf000ff\">\n",
              "    <div class=\"colab-df-container\">\n",
              "      <div>\n",
              "<style scoped>\n",
              "    .dataframe tbody tr th:only-of-type {\n",
              "        vertical-align: middle;\n",
              "    }\n",
              "\n",
              "    .dataframe tbody tr th {\n",
              "        vertical-align: top;\n",
              "    }\n",
              "\n",
              "    .dataframe thead th {\n",
              "        text-align: right;\n",
              "    }\n",
              "</style>\n",
              "<table border=\"1\" class=\"dataframe\">\n",
              "  <thead>\n",
              "    <tr style=\"text-align: right;\">\n",
              "      <th></th>\n",
              "      <th>Unnamed: 0</th>\n",
              "      <th>work_year</th>\n",
              "      <th>experience_level</th>\n",
              "      <th>employment_type</th>\n",
              "      <th>job_title</th>\n",
              "      <th>salary</th>\n",
              "      <th>salary_currency</th>\n",
              "      <th>salary_in_usd</th>\n",
              "      <th>employee_residence</th>\n",
              "      <th>remote_ratio</th>\n",
              "      <th>company_location</th>\n",
              "      <th>company_size</th>\n",
              "    </tr>\n",
              "  </thead>\n",
              "  <tbody>\n",
              "    <tr>\n",
              "      <th>0</th>\n",
              "      <td>0</td>\n",
              "      <td>2020</td>\n",
              "      <td>MI</td>\n",
              "      <td>FT</td>\n",
              "      <td>Data Scientist</td>\n",
              "      <td>70000</td>\n",
              "      <td>EUR</td>\n",
              "      <td>79833</td>\n",
              "      <td>DE</td>\n",
              "      <td>0</td>\n",
              "      <td>DE</td>\n",
              "      <td>L</td>\n",
              "    </tr>\n",
              "    <tr>\n",
              "      <th>1</th>\n",
              "      <td>1</td>\n",
              "      <td>2020</td>\n",
              "      <td>SE</td>\n",
              "      <td>FT</td>\n",
              "      <td>Machine Learning Scientist</td>\n",
              "      <td>260000</td>\n",
              "      <td>USD</td>\n",
              "      <td>260000</td>\n",
              "      <td>JP</td>\n",
              "      <td>0</td>\n",
              "      <td>JP</td>\n",
              "      <td>S</td>\n",
              "    </tr>\n",
              "    <tr>\n",
              "      <th>2</th>\n",
              "      <td>2</td>\n",
              "      <td>2020</td>\n",
              "      <td>SE</td>\n",
              "      <td>FT</td>\n",
              "      <td>Big Data Engineer</td>\n",
              "      <td>85000</td>\n",
              "      <td>GBP</td>\n",
              "      <td>109024</td>\n",
              "      <td>GB</td>\n",
              "      <td>50</td>\n",
              "      <td>GB</td>\n",
              "      <td>M</td>\n",
              "    </tr>\n",
              "    <tr>\n",
              "      <th>3</th>\n",
              "      <td>3</td>\n",
              "      <td>2020</td>\n",
              "      <td>MI</td>\n",
              "      <td>FT</td>\n",
              "      <td>Product Data Analyst</td>\n",
              "      <td>20000</td>\n",
              "      <td>USD</td>\n",
              "      <td>20000</td>\n",
              "      <td>HN</td>\n",
              "      <td>0</td>\n",
              "      <td>HN</td>\n",
              "      <td>S</td>\n",
              "    </tr>\n",
              "    <tr>\n",
              "      <th>4</th>\n",
              "      <td>4</td>\n",
              "      <td>2020</td>\n",
              "      <td>SE</td>\n",
              "      <td>FT</td>\n",
              "      <td>Machine Learning Engineer</td>\n",
              "      <td>150000</td>\n",
              "      <td>USD</td>\n",
              "      <td>150000</td>\n",
              "      <td>US</td>\n",
              "      <td>50</td>\n",
              "      <td>US</td>\n",
              "      <td>L</td>\n",
              "    </tr>\n",
              "  </tbody>\n",
              "</table>\n",
              "</div>\n",
              "      <button class=\"colab-df-convert\" onclick=\"convertToInteractive('df-8842a6a3-5a61-47a7-8051-a8ebecf000ff')\"\n",
              "              title=\"Convert this dataframe to an interactive table.\"\n",
              "              style=\"display:none;\">\n",
              "        \n",
              "  <svg xmlns=\"http://www.w3.org/2000/svg\" height=\"24px\"viewBox=\"0 0 24 24\"\n",
              "       width=\"24px\">\n",
              "    <path d=\"M0 0h24v24H0V0z\" fill=\"none\"/>\n",
              "    <path d=\"M18.56 5.44l.94 2.06.94-2.06 2.06-.94-2.06-.94-.94-2.06-.94 2.06-2.06.94zm-11 1L8.5 8.5l.94-2.06 2.06-.94-2.06-.94L8.5 2.5l-.94 2.06-2.06.94zm10 10l.94 2.06.94-2.06 2.06-.94-2.06-.94-.94-2.06-.94 2.06-2.06.94z\"/><path d=\"M17.41 7.96l-1.37-1.37c-.4-.4-.92-.59-1.43-.59-.52 0-1.04.2-1.43.59L10.3 9.45l-7.72 7.72c-.78.78-.78 2.05 0 2.83L4 21.41c.39.39.9.59 1.41.59.51 0 1.02-.2 1.41-.59l7.78-7.78 2.81-2.81c.8-.78.8-2.07 0-2.86zM5.41 20L4 18.59l7.72-7.72 1.47 1.35L5.41 20z\"/>\n",
              "  </svg>\n",
              "      </button>\n",
              "      \n",
              "  <style>\n",
              "    .colab-df-container {\n",
              "      display:flex;\n",
              "      flex-wrap:wrap;\n",
              "      gap: 12px;\n",
              "    }\n",
              "\n",
              "    .colab-df-convert {\n",
              "      background-color: #E8F0FE;\n",
              "      border: none;\n",
              "      border-radius: 50%;\n",
              "      cursor: pointer;\n",
              "      display: none;\n",
              "      fill: #1967D2;\n",
              "      height: 32px;\n",
              "      padding: 0 0 0 0;\n",
              "      width: 32px;\n",
              "    }\n",
              "\n",
              "    .colab-df-convert:hover {\n",
              "      background-color: #E2EBFA;\n",
              "      box-shadow: 0px 1px 2px rgba(60, 64, 67, 0.3), 0px 1px 3px 1px rgba(60, 64, 67, 0.15);\n",
              "      fill: #174EA6;\n",
              "    }\n",
              "\n",
              "    [theme=dark] .colab-df-convert {\n",
              "      background-color: #3B4455;\n",
              "      fill: #D2E3FC;\n",
              "    }\n",
              "\n",
              "    [theme=dark] .colab-df-convert:hover {\n",
              "      background-color: #434B5C;\n",
              "      box-shadow: 0px 1px 3px 1px rgba(0, 0, 0, 0.15);\n",
              "      filter: drop-shadow(0px 1px 2px rgba(0, 0, 0, 0.3));\n",
              "      fill: #FFFFFF;\n",
              "    }\n",
              "  </style>\n",
              "\n",
              "      <script>\n",
              "        const buttonEl =\n",
              "          document.querySelector('#df-8842a6a3-5a61-47a7-8051-a8ebecf000ff button.colab-df-convert');\n",
              "        buttonEl.style.display =\n",
              "          google.colab.kernel.accessAllowed ? 'block' : 'none';\n",
              "\n",
              "        async function convertToInteractive(key) {\n",
              "          const element = document.querySelector('#df-8842a6a3-5a61-47a7-8051-a8ebecf000ff');\n",
              "          const dataTable =\n",
              "            await google.colab.kernel.invokeFunction('convertToInteractive',\n",
              "                                                     [key], {});\n",
              "          if (!dataTable) return;\n",
              "\n",
              "          const docLinkHtml = 'Like what you see? Visit the ' +\n",
              "            '<a target=\"_blank\" href=https://colab.research.google.com/notebooks/data_table.ipynb>data table notebook</a>'\n",
              "            + ' to learn more about interactive tables.';\n",
              "          element.innerHTML = '';\n",
              "          dataTable['output_type'] = 'display_data';\n",
              "          await google.colab.output.renderOutput(dataTable, element);\n",
              "          const docLink = document.createElement('div');\n",
              "          docLink.innerHTML = docLinkHtml;\n",
              "          element.appendChild(docLink);\n",
              "        }\n",
              "      </script>\n",
              "    </div>\n",
              "  </div>\n",
              "  "
            ]
          },
          "metadata": {},
          "execution_count": 55
        }
      ]
    },
    {
      "cell_type": "code",
      "source": [
        "data.info()"
      ],
      "metadata": {
        "colab": {
          "base_uri": "https://localhost:8080/"
        },
        "id": "Eu2sRDggj126",
        "outputId": "7ee51a2f-517a-410f-a6ac-8df1d77255b2"
      },
      "execution_count": 56,
      "outputs": [
        {
          "output_type": "stream",
          "name": "stdout",
          "text": [
            "<class 'pandas.core.frame.DataFrame'>\n",
            "RangeIndex: 607 entries, 0 to 606\n",
            "Data columns (total 12 columns):\n",
            " #   Column              Non-Null Count  Dtype \n",
            "---  ------              --------------  ----- \n",
            " 0   Unnamed: 0          607 non-null    int64 \n",
            " 1   work_year           607 non-null    int64 \n",
            " 2   experience_level    607 non-null    object\n",
            " 3   employment_type     607 non-null    object\n",
            " 4   job_title           607 non-null    object\n",
            " 5   salary              607 non-null    int64 \n",
            " 6   salary_currency     607 non-null    object\n",
            " 7   salary_in_usd       607 non-null    int64 \n",
            " 8   employee_residence  607 non-null    object\n",
            " 9   remote_ratio        607 non-null    int64 \n",
            " 10  company_location    607 non-null    object\n",
            " 11  company_size        607 non-null    object\n",
            "dtypes: int64(5), object(7)\n",
            "memory usage: 57.0+ KB\n"
          ]
        }
      ]
    },
    {
      "cell_type": "code",
      "source": [
        "unused_columns = ['Unnamed: 0']\n",
        "data.drop(columns=unused_columns, inplace=True)"
      ],
      "metadata": {
        "id": "tNPkX8Ja97xJ"
      },
      "execution_count": 57,
      "outputs": []
    },
    {
      "cell_type": "code",
      "source": [
        "experience_level_dict = {'EN':'Entry Level/Junior', \n",
        "                         'MI':'Mid Level/Intermediate', \n",
        "                         'SE':'Senior Level/Expert', \n",
        "                         'EX':'Executive Level/Director'}\n",
        "\n",
        "data['experience_level'] = data['experience_level'].map(experience_level_dict)"
      ],
      "metadata": {
        "id": "N5uvYspJgqXy"
      },
      "execution_count": 58,
      "outputs": []
    },
    {
      "cell_type": "code",
      "source": [
        "company_size_dict = {'S': 'Small',\n",
        "                     'M': 'Medium',\n",
        "                     'L': 'Large'}\n",
        "data['company_size'] = data['company_size'].map(company_size_dict)"
      ],
      "metadata": {
        "id": "_YDkbQ3Cdsso"
      },
      "execution_count": 59,
      "outputs": []
    },
    {
      "cell_type": "code",
      "source": [
        "data.head()"
      ],
      "metadata": {
        "colab": {
          "base_uri": "https://localhost:8080/",
          "height": 409
        },
        "id": "8hjRDi_qhTyn",
        "outputId": "3c6bdbb9-deab-4e95-a599-400055c0c684"
      },
      "execution_count": 60,
      "outputs": [
        {
          "output_type": "execute_result",
          "data": {
            "text/plain": [
              "   work_year        experience_level employment_type  \\\n",
              "0       2020  Mid Level/Intermediate              FT   \n",
              "1       2020     Senior Level/Expert              FT   \n",
              "2       2020     Senior Level/Expert              FT   \n",
              "3       2020  Mid Level/Intermediate              FT   \n",
              "4       2020     Senior Level/Expert              FT   \n",
              "\n",
              "                    job_title  salary salary_currency  salary_in_usd  \\\n",
              "0              Data Scientist   70000             EUR          79833   \n",
              "1  Machine Learning Scientist  260000             USD         260000   \n",
              "2           Big Data Engineer   85000             GBP         109024   \n",
              "3        Product Data Analyst   20000             USD          20000   \n",
              "4   Machine Learning Engineer  150000             USD         150000   \n",
              "\n",
              "  employee_residence  remote_ratio company_location company_size  \n",
              "0                 DE             0               DE        Large  \n",
              "1                 JP             0               JP        Small  \n",
              "2                 GB            50               GB       Medium  \n",
              "3                 HN             0               HN        Small  \n",
              "4                 US            50               US        Large  "
            ],
            "text/html": [
              "\n",
              "  <div id=\"df-1dd980ea-26e7-4d55-bba9-449cd7b4bd09\">\n",
              "    <div class=\"colab-df-container\">\n",
              "      <div>\n",
              "<style scoped>\n",
              "    .dataframe tbody tr th:only-of-type {\n",
              "        vertical-align: middle;\n",
              "    }\n",
              "\n",
              "    .dataframe tbody tr th {\n",
              "        vertical-align: top;\n",
              "    }\n",
              "\n",
              "    .dataframe thead th {\n",
              "        text-align: right;\n",
              "    }\n",
              "</style>\n",
              "<table border=\"1\" class=\"dataframe\">\n",
              "  <thead>\n",
              "    <tr style=\"text-align: right;\">\n",
              "      <th></th>\n",
              "      <th>work_year</th>\n",
              "      <th>experience_level</th>\n",
              "      <th>employment_type</th>\n",
              "      <th>job_title</th>\n",
              "      <th>salary</th>\n",
              "      <th>salary_currency</th>\n",
              "      <th>salary_in_usd</th>\n",
              "      <th>employee_residence</th>\n",
              "      <th>remote_ratio</th>\n",
              "      <th>company_location</th>\n",
              "      <th>company_size</th>\n",
              "    </tr>\n",
              "  </thead>\n",
              "  <tbody>\n",
              "    <tr>\n",
              "      <th>0</th>\n",
              "      <td>2020</td>\n",
              "      <td>Mid Level/Intermediate</td>\n",
              "      <td>FT</td>\n",
              "      <td>Data Scientist</td>\n",
              "      <td>70000</td>\n",
              "      <td>EUR</td>\n",
              "      <td>79833</td>\n",
              "      <td>DE</td>\n",
              "      <td>0</td>\n",
              "      <td>DE</td>\n",
              "      <td>Large</td>\n",
              "    </tr>\n",
              "    <tr>\n",
              "      <th>1</th>\n",
              "      <td>2020</td>\n",
              "      <td>Senior Level/Expert</td>\n",
              "      <td>FT</td>\n",
              "      <td>Machine Learning Scientist</td>\n",
              "      <td>260000</td>\n",
              "      <td>USD</td>\n",
              "      <td>260000</td>\n",
              "      <td>JP</td>\n",
              "      <td>0</td>\n",
              "      <td>JP</td>\n",
              "      <td>Small</td>\n",
              "    </tr>\n",
              "    <tr>\n",
              "      <th>2</th>\n",
              "      <td>2020</td>\n",
              "      <td>Senior Level/Expert</td>\n",
              "      <td>FT</td>\n",
              "      <td>Big Data Engineer</td>\n",
              "      <td>85000</td>\n",
              "      <td>GBP</td>\n",
              "      <td>109024</td>\n",
              "      <td>GB</td>\n",
              "      <td>50</td>\n",
              "      <td>GB</td>\n",
              "      <td>Medium</td>\n",
              "    </tr>\n",
              "    <tr>\n",
              "      <th>3</th>\n",
              "      <td>2020</td>\n",
              "      <td>Mid Level/Intermediate</td>\n",
              "      <td>FT</td>\n",
              "      <td>Product Data Analyst</td>\n",
              "      <td>20000</td>\n",
              "      <td>USD</td>\n",
              "      <td>20000</td>\n",
              "      <td>HN</td>\n",
              "      <td>0</td>\n",
              "      <td>HN</td>\n",
              "      <td>Small</td>\n",
              "    </tr>\n",
              "    <tr>\n",
              "      <th>4</th>\n",
              "      <td>2020</td>\n",
              "      <td>Senior Level/Expert</td>\n",
              "      <td>FT</td>\n",
              "      <td>Machine Learning Engineer</td>\n",
              "      <td>150000</td>\n",
              "      <td>USD</td>\n",
              "      <td>150000</td>\n",
              "      <td>US</td>\n",
              "      <td>50</td>\n",
              "      <td>US</td>\n",
              "      <td>Large</td>\n",
              "    </tr>\n",
              "  </tbody>\n",
              "</table>\n",
              "</div>\n",
              "      <button class=\"colab-df-convert\" onclick=\"convertToInteractive('df-1dd980ea-26e7-4d55-bba9-449cd7b4bd09')\"\n",
              "              title=\"Convert this dataframe to an interactive table.\"\n",
              "              style=\"display:none;\">\n",
              "        \n",
              "  <svg xmlns=\"http://www.w3.org/2000/svg\" height=\"24px\"viewBox=\"0 0 24 24\"\n",
              "       width=\"24px\">\n",
              "    <path d=\"M0 0h24v24H0V0z\" fill=\"none\"/>\n",
              "    <path d=\"M18.56 5.44l.94 2.06.94-2.06 2.06-.94-2.06-.94-.94-2.06-.94 2.06-2.06.94zm-11 1L8.5 8.5l.94-2.06 2.06-.94-2.06-.94L8.5 2.5l-.94 2.06-2.06.94zm10 10l.94 2.06.94-2.06 2.06-.94-2.06-.94-.94-2.06-.94 2.06-2.06.94z\"/><path d=\"M17.41 7.96l-1.37-1.37c-.4-.4-.92-.59-1.43-.59-.52 0-1.04.2-1.43.59L10.3 9.45l-7.72 7.72c-.78.78-.78 2.05 0 2.83L4 21.41c.39.39.9.59 1.41.59.51 0 1.02-.2 1.41-.59l7.78-7.78 2.81-2.81c.8-.78.8-2.07 0-2.86zM5.41 20L4 18.59l7.72-7.72 1.47 1.35L5.41 20z\"/>\n",
              "  </svg>\n",
              "      </button>\n",
              "      \n",
              "  <style>\n",
              "    .colab-df-container {\n",
              "      display:flex;\n",
              "      flex-wrap:wrap;\n",
              "      gap: 12px;\n",
              "    }\n",
              "\n",
              "    .colab-df-convert {\n",
              "      background-color: #E8F0FE;\n",
              "      border: none;\n",
              "      border-radius: 50%;\n",
              "      cursor: pointer;\n",
              "      display: none;\n",
              "      fill: #1967D2;\n",
              "      height: 32px;\n",
              "      padding: 0 0 0 0;\n",
              "      width: 32px;\n",
              "    }\n",
              "\n",
              "    .colab-df-convert:hover {\n",
              "      background-color: #E2EBFA;\n",
              "      box-shadow: 0px 1px 2px rgba(60, 64, 67, 0.3), 0px 1px 3px 1px rgba(60, 64, 67, 0.15);\n",
              "      fill: #174EA6;\n",
              "    }\n",
              "\n",
              "    [theme=dark] .colab-df-convert {\n",
              "      background-color: #3B4455;\n",
              "      fill: #D2E3FC;\n",
              "    }\n",
              "\n",
              "    [theme=dark] .colab-df-convert:hover {\n",
              "      background-color: #434B5C;\n",
              "      box-shadow: 0px 1px 3px 1px rgba(0, 0, 0, 0.15);\n",
              "      filter: drop-shadow(0px 1px 2px rgba(0, 0, 0, 0.3));\n",
              "      fill: #FFFFFF;\n",
              "    }\n",
              "  </style>\n",
              "\n",
              "      <script>\n",
              "        const buttonEl =\n",
              "          document.querySelector('#df-1dd980ea-26e7-4d55-bba9-449cd7b4bd09 button.colab-df-convert');\n",
              "        buttonEl.style.display =\n",
              "          google.colab.kernel.accessAllowed ? 'block' : 'none';\n",
              "\n",
              "        async function convertToInteractive(key) {\n",
              "          const element = document.querySelector('#df-1dd980ea-26e7-4d55-bba9-449cd7b4bd09');\n",
              "          const dataTable =\n",
              "            await google.colab.kernel.invokeFunction('convertToInteractive',\n",
              "                                                     [key], {});\n",
              "          if (!dataTable) return;\n",
              "\n",
              "          const docLinkHtml = 'Like what you see? Visit the ' +\n",
              "            '<a target=\"_blank\" href=https://colab.research.google.com/notebooks/data_table.ipynb>data table notebook</a>'\n",
              "            + ' to learn more about interactive tables.';\n",
              "          element.innerHTML = '';\n",
              "          dataTable['output_type'] = 'display_data';\n",
              "          await google.colab.output.renderOutput(dataTable, element);\n",
              "          const docLink = document.createElement('div');\n",
              "          docLink.innerHTML = docLinkHtml;\n",
              "          element.appendChild(docLink);\n",
              "        }\n",
              "      </script>\n",
              "    </div>\n",
              "  </div>\n",
              "  "
            ]
          },
          "metadata": {},
          "execution_count": 60
        }
      ]
    },
    {
      "cell_type": "markdown",
      "source": [
        "Десять наиболее популярных специальностей:"
      ],
      "metadata": {
        "id": "tWhV9pgt9NyQ"
      }
    },
    {
      "cell_type": "code",
      "source": [
        "ten_most_needed_job_titles = data['job_title'].value_counts().head(10)\n",
        "ten_most_needed_job_titles"
      ],
      "metadata": {
        "colab": {
          "base_uri": "https://localhost:8080/"
        },
        "id": "s7v6NLUsrrTM",
        "outputId": "82d125fb-f184-4b2f-a4ef-60087896eec8"
      },
      "execution_count": 61,
      "outputs": [
        {
          "output_type": "execute_result",
          "data": {
            "text/plain": [
              "Data Scientist                143\n",
              "Data Engineer                 132\n",
              "Data Analyst                   97\n",
              "Machine Learning Engineer      41\n",
              "Research Scientist             16\n",
              "Data Science Manager           12\n",
              "Data Architect                 11\n",
              "Big Data Engineer               8\n",
              "Machine Learning Scientist      8\n",
              "Principal Data Scientist        7\n",
              "Name: job_title, dtype: int64"
            ]
          },
          "metadata": {},
          "execution_count": 61
        }
      ]
    },
    {
      "cell_type": "markdown",
      "source": [
        "В процентном отношении:"
      ],
      "metadata": {
        "id": "j8zOGZ6_9VYA"
      }
    },
    {
      "cell_type": "code",
      "source": [
        "percent_top_ten = ten_most_needed_job_titles * 100 / data.shape[0]\n",
        "percent_top_ten"
      ],
      "metadata": {
        "colab": {
          "base_uri": "https://localhost:8080/"
        },
        "id": "zvdA66EMsK8r",
        "outputId": "9b3139aa-122e-49c0-df25-3d4c42b4445f"
      },
      "execution_count": 62,
      "outputs": [
        {
          "output_type": "execute_result",
          "data": {
            "text/plain": [
              "Data Scientist                23.558484\n",
              "Data Engineer                 21.746293\n",
              "Data Analyst                  15.980231\n",
              "Machine Learning Engineer      6.754530\n",
              "Research Scientist             2.635914\n",
              "Data Science Manager           1.976936\n",
              "Data Architect                 1.812191\n",
              "Big Data Engineer              1.317957\n",
              "Machine Learning Scientist     1.317957\n",
              "Principal Data Scientist       1.153213\n",
              "Name: job_title, dtype: float64"
            ]
          },
          "metadata": {},
          "execution_count": 62
        }
      ]
    },
    {
      "cell_type": "markdown",
      "source": [
        "Посмотрим распределение зарплат среди всех специалистов:"
      ],
      "metadata": {
        "id": "zY5YcYJeZFay"
      }
    },
    {
      "cell_type": "code",
      "source": [
        "plt.hist(data['salary_in_usd'], bins=60, ec=\"black\")\n",
        "plt.xlabel('Salary_in_USD')\n",
        "plt.ylabel('Count')\n",
        "plt.show()"
      ],
      "metadata": {
        "colab": {
          "base_uri": "https://localhost:8080/",
          "height": 280
        },
        "id": "qEPQMqnNKM0z",
        "outputId": "d25fe0fd-4181-4338-98b3-9adb98935154"
      },
      "execution_count": 63,
      "outputs": [
        {
          "output_type": "display_data",
          "data": {
            "text/plain": [
              "<Figure size 432x288 with 1 Axes>"
            ],
            "image/png": "[encoded data removed]"
          },
          "metadata": {
            "needs_background": "light"
          }
        }
      ]
    },
    {
      "cell_type": "markdown",
      "source": [
        "На гистограмме видим характерное похожее на колокол нормальное распределение. "
      ],
      "metadata": {
        "id": "iUXGWVkbC3TF"
      }
    },
    {
      "cell_type": "markdown",
      "source": [
        "Посмотрим выбросы по зарплате:"
      ],
      "metadata": {
        "id": "PQ-akbaOFFOa"
      }
    },
    {
      "cell_type": "code",
      "source": [
        "sns.boxplot(data['salary_in_usd'], orient='v')\n",
        "plt.show()"
      ],
      "metadata": {
        "colab": {
          "base_uri": "https://localhost:8080/",
          "height": 280
        },
        "id": "pjFaPXOpEfPL",
        "outputId": "18a7a953-d9da-412c-99b1-5ad60572bd5d"
      },
      "execution_count": 64,
      "outputs": [
        {
          "output_type": "display_data",
          "data": {
            "text/plain": [
              "<Figure size 432x288 with 1 Axes>"
            ],
            "image/png": "[encoded data removed]"
          },
          "metadata": {
            "needs_background": "light"
          }
        }
      ]
    },
    {
      "cell_type": "markdown",
      "source": [
        "Поработаем с выбросами:"
      ],
      "metadata": {
        "id": "GLWdg3jc-ye7"
      }
    },
    {
      "cell_type": "code",
      "source": [
        "data['salary_in_usd'].value_counts()"
      ],
      "metadata": {
        "colab": {
          "base_uri": "https://localhost:8080/"
        },
        "id": "7ec-IoPs_tVp",
        "outputId": "3cd95b9d-694b-4d40-f2fe-6a992c0eb524"
      },
      "execution_count": 65,
      "outputs": [
        {
          "output_type": "execute_result",
          "data": {
            "text/plain": [
              "100000    15\n",
              "120000    12\n",
              "150000    12\n",
              "200000    10\n",
              "135000     9\n",
              "          ..\n",
              "74000      1\n",
              "61896      1\n",
              "26005      1\n",
              "22611      1\n",
              "129000     1\n",
              "Name: salary_in_usd, Length: 369, dtype: int64"
            ]
          },
          "metadata": {},
          "execution_count": 65
        }
      ]
    },
    {
      "cell_type": "code",
      "source": [
        "data['salary_in_usd'].quantile(0.975), data['salary_in_usd'].quantile(0.025)"
      ],
      "metadata": {
        "colab": {
          "base_uri": "https://localhost:8080/"
        },
        "id": "8qiqP_Tj-1oc",
        "outputId": "6bfd4637-f46e-4f54-a2fa-1ad986bf0af8"
      },
      "execution_count": 66,
      "outputs": [
        {
          "output_type": "execute_result",
          "data": {
            "text/plain": [
              "(255100.00000000015, 12000.0)"
            ]
          },
          "metadata": {},
          "execution_count": 66
        }
      ]
    },
    {
      "cell_type": "markdown",
      "source": [
        "Заменим выбросы медианой:"
      ],
      "metadata": {
        "id": "uA78S5oWgAYg"
      }
    },
    {
      "cell_type": "code",
      "source": [
        "# condition = (data['salary_in_usd'] < data['salary_in_usd'].quantile(.025)) | (data['salary_in_usd'] > data['salary_in_usd'].quantile(.975))\n",
        "condition = data['salary_in_usd'].isna() | (data['salary_in_usd'] > data['salary_in_usd'].quantile(0.975))\n",
        "data.loc[condition, 'salary_in_usd'] = data['salary_in_usd'].median()"
      ],
      "metadata": {
        "id": "bf2yqeHU_Y1p"
      },
      "execution_count": 67,
      "outputs": []
    },
    {
      "cell_type": "code",
      "source": [
        "data['salary_in_usd'].value_counts()"
      ],
      "metadata": {
        "colab": {
          "base_uri": "https://localhost:8080/"
        },
        "id": "5qFz9uas_4JY",
        "outputId": "74bfae22-ab11-43f7-ecfb-e16500122e09"
      },
      "execution_count": 68,
      "outputs": [
        {
          "output_type": "execute_result",
          "data": {
            "text/plain": [
              "101570    17\n",
              "100000    15\n",
              "150000    12\n",
              "120000    12\n",
              "200000    10\n",
              "          ..\n",
              "152000     1\n",
              "74000      1\n",
              "61896      1\n",
              "26005      1\n",
              "129000     1\n",
              "Name: salary_in_usd, Length: 355, dtype: int64"
            ]
          },
          "metadata": {},
          "execution_count": 68
        }
      ]
    },
    {
      "cell_type": "markdown",
      "source": [
        "Посмотрим отдельно статистики распределения зарплат всех специалистов."
      ],
      "metadata": {
        "id": "clTikMeaZKbN"
      }
    },
    {
      "cell_type": "markdown",
      "source": [
        "Математическое ожидание:"
      ],
      "metadata": {
        "id": "CR3dVnC-KIb_"
      }
    },
    {
      "cell_type": "code",
      "source": [
        "salary_in_usd_mean = data['salary_in_usd'].mean()\n",
        "salary_in_usd_mean"
      ],
      "metadata": {
        "colab": {
          "base_uri": "https://localhost:8080/"
        },
        "id": "4K5pHZg_Lmht",
        "outputId": "1d990a1d-0c99-4157-ef19-be8a39f658eb"
      },
      "execution_count": 69,
      "outputs": [
        {
          "output_type": "execute_result",
          "data": {
            "text/plain": [
              "105463.80065897858"
            ]
          },
          "metadata": {},
          "execution_count": 69
        }
      ]
    },
    {
      "cell_type": "markdown",
      "source": [
        "Мода:"
      ],
      "metadata": {
        "id": "D0wvryvdKOIO"
      }
    },
    {
      "cell_type": "code",
      "source": [
        "data['salary_in_usd'].mode()"
      ],
      "metadata": {
        "colab": {
          "base_uri": "https://localhost:8080/"
        },
        "id": "gJt2jKnxLrpn",
        "outputId": "b2ba4f53-51a8-4029-d4ec-93132c0a50d3"
      },
      "execution_count": 70,
      "outputs": [
        {
          "output_type": "execute_result",
          "data": {
            "text/plain": [
              "0    101570\n",
              "dtype: int64"
            ]
          },
          "metadata": {},
          "execution_count": 70
        }
      ]
    },
    {
      "cell_type": "markdown",
      "source": [
        "Медиана:"
      ],
      "metadata": {
        "id": "bmwmBkM0KQjF"
      }
    },
    {
      "cell_type": "code",
      "source": [
        "data['salary_in_usd'].median()"
      ],
      "metadata": {
        "colab": {
          "base_uri": "https://localhost:8080/"
        },
        "id": "EMQ472ZxLwZh",
        "outputId": "6aa4a084-1c52-457e-c061-06d41b86dde7"
      },
      "execution_count": 71,
      "outputs": [
        {
          "output_type": "execute_result",
          "data": {
            "text/plain": [
              "101570.0"
            ]
          },
          "metadata": {},
          "execution_count": 71
        }
      ]
    },
    {
      "cell_type": "markdown",
      "source": [
        "Посчитаем среднее квадратичное отклонение в заработной плате:"
      ],
      "metadata": {
        "id": "gQZ8JCBlYcK8"
      }
    },
    {
      "cell_type": "code",
      "source": [
        "salary_std = np.sqrt(((data['salary_in_usd'] - data['salary_in_usd'].mean())**2).sum() / data['salary_in_usd'].count())\n",
        "salary_std"
      ],
      "metadata": {
        "colab": {
          "base_uri": "https://localhost:8080/"
        },
        "id": "J63H2prvOb2D",
        "outputId": "b6005781-e872-409c-ceee-2a3512458d2a"
      },
      "execution_count": 72,
      "outputs": [
        {
          "output_type": "execute_result",
          "data": {
            "text/plain": [
              "55845.05887757072"
            ]
          },
          "metadata": {},
          "execution_count": 72
        }
      ]
    },
    {
      "cell_type": "markdown",
      "source": [
        "Либо используя функцию std():"
      ],
      "metadata": {
        "id": "KJ_p16P0gUif"
      }
    },
    {
      "cell_type": "code",
      "source": [
        "data['salary_in_usd'].std(ddof=0)"
      ],
      "metadata": {
        "colab": {
          "base_uri": "https://localhost:8080/"
        },
        "id": "2rZ1rx1RgD0l",
        "outputId": "bebd2158-d5e2-4b8f-f381-f8493245557e"
      },
      "execution_count": 73,
      "outputs": [
        {
          "output_type": "execute_result",
          "data": {
            "text/plain": [
              "55845.05887757072"
            ]
          },
          "metadata": {},
          "execution_count": 73
        }
      ]
    },
    {
      "cell_type": "markdown",
      "source": [
        "Посчитаем несмещённую дисперсию:"
      ],
      "metadata": {
        "id": "GbB3wg7RgqtL"
      }
    },
    {
      "cell_type": "code",
      "source": [
        "salary_variance = ((data['salary_in_usd'] - data['salary_in_usd'].mean())**2).sum() / (data['salary_in_usd'].count() - 1)\n",
        "salary_variance"
      ],
      "metadata": {
        "colab": {
          "base_uri": "https://localhost:8080/"
        },
        "id": "zHW3ZLjqDNkN",
        "outputId": "803036bf-9326-41fd-d440-e5811c7f609a"
      },
      "execution_count": 74,
      "outputs": [
        {
          "output_type": "execute_result",
          "data": {
            "text/plain": [
              "3123816922.163168"
            ]
          },
          "metadata": {},
          "execution_count": 74
        }
      ]
    },
    {
      "cell_type": "markdown",
      "source": [
        "Используя функцию var():"
      ],
      "metadata": {
        "id": "lRvlW2z7E2a3"
      }
    },
    {
      "cell_type": "code",
      "source": [
        "data['salary_in_usd'].var(ddof=1)"
      ],
      "metadata": {
        "colab": {
          "base_uri": "https://localhost:8080/"
        },
        "id": "1Sc9SbsagtW6",
        "outputId": "78876e2f-be11-41fe-a6d6-abb61dd55c2c"
      },
      "execution_count": 75,
      "outputs": [
        {
          "output_type": "execute_result",
          "data": {
            "text/plain": [
              "3123816922.163168"
            ]
          },
          "metadata": {},
          "execution_count": 75
        }
      ]
    },
    {
      "cell_type": "markdown",
      "source": [
        "Найдём первый и третий квартили:"
      ],
      "metadata": {
        "id": "QBYLcJP_YLt-"
      }
    },
    {
      "cell_type": "code",
      "source": [
        "IQR1 = np.percentile(data['salary_in_usd'], 75)\n",
        "IQR1"
      ],
      "metadata": {
        "colab": {
          "base_uri": "https://localhost:8080/"
        },
        "id": "efFqq4EOX5IS",
        "outputId": "6634d217-af00-4eb6-d1b3-d1adac23300e"
      },
      "execution_count": 76,
      "outputs": [
        {
          "output_type": "execute_result",
          "data": {
            "text/plain": [
              "144000.0"
            ]
          },
          "metadata": {},
          "execution_count": 76
        }
      ]
    },
    {
      "cell_type": "code",
      "source": [
        "IQR2 = np.percentile(data['salary_in_usd'], 25)\n",
        "IQR2"
      ],
      "metadata": {
        "colab": {
          "base_uri": "https://localhost:8080/"
        },
        "id": "ZOZqvpsBYR5i",
        "outputId": "30a594ad-d255-4dc6-835e-35a05f6aa991"
      },
      "execution_count": 77,
      "outputs": [
        {
          "output_type": "execute_result",
          "data": {
            "text/plain": [
              "62726.0"
            ]
          },
          "metadata": {},
          "execution_count": 77
        }
      ]
    },
    {
      "cell_type": "markdown",
      "source": [
        "Интерквартильное расстояние:"
      ],
      "metadata": {
        "id": "lDsLCR4CYdKe"
      }
    },
    {
      "cell_type": "code",
      "source": [
        "IQR = np.percentile(data['salary_in_usd'], 75) - np.percentile(data['salary_in_usd'], 25)\n",
        "IQR"
      ],
      "metadata": {
        "colab": {
          "base_uri": "https://localhost:8080/"
        },
        "id": "0QoBiPzKYf6B",
        "outputId": "9f7651b5-57f0-4fb7-b16c-a70ca2dddf2f"
      },
      "execution_count": 78,
      "outputs": [
        {
          "output_type": "execute_result",
          "data": {
            "text/plain": [
              "81274.0"
            ]
          },
          "metadata": {},
          "execution_count": 78
        }
      ]
    },
    {
      "cell_type": "markdown",
      "source": [
        "Найдём доверительный интервал для оценки математического ожидания с надежностью 0.95\n",
        "\n",
        "Так как нам уже известно среднее квадратичное отклонение, используем правило двух сигм:"
      ],
      "metadata": {
        "id": "vmFFvZHNZg01"
      }
    },
    {
      "cell_type": "code",
      "source": [
        "(salary_in_usd_mean - 2 * np.sqrt(salary_std / data['salary_in_usd'].count()), salary_in_usd_mean + 2 * np.sqrt(salary_std / data['salary_in_usd'].count()))"
      ],
      "metadata": {
        "colab": {
          "base_uri": "https://localhost:8080/"
        },
        "id": "MoPfapeAZkdZ",
        "outputId": "89cafea7-229a-4538-9d63-6e9028f92c31"
      },
      "execution_count": 79,
      "outputs": [
        {
          "output_type": "execute_result",
          "data": {
            "text/plain": [
              "(105444.61715101532, 105482.98416694184)"
            ]
          },
          "metadata": {},
          "execution_count": 79
        }
      ]
    },
    {
      "cell_type": "markdown",
      "source": [
        "Посмотрим зависимость уровня зарплат от опыта работы:"
      ],
      "metadata": {
        "id": "R16A0IMBqPIO"
      }
    },
    {
      "cell_type": "code",
      "source": [
        "experience_order = ['Entry Level/Junior', 'Mid Level/Intermediate', 'Senior Level/Expert', 'Executive Level/Director']"
      ],
      "metadata": {
        "id": "YuIHykBCn-kA"
      },
      "execution_count": 80,
      "outputs": []
    },
    {
      "cell_type": "code",
      "source": [
        "sns.catplot(data=data,\n",
        "            x='experience_level',\n",
        "            y ='salary_in_usd',\n",
        "            order=experience_order,\n",
        "            height= 10,\n",
        "            kind='box',\n",
        "            hue='company_size')\n",
        "\n",
        "plt.title('Experience Level, Salary and Company Size')\n",
        "plt.ylabel('Salary')\n",
        "plt.xlabel('Experience Level');"
      ],
      "metadata": {
        "colab": {
          "base_uri": "https://localhost:8080/",
          "height": 744
        },
        "id": "NUwmU-tRn2lx",
        "outputId": "f149d7d2-e00a-4f1e-e7c8-200d090684c3"
      },
      "execution_count": 81,
      "outputs": [
        {
          "output_type": "display_data",
          "data": {
            "text/plain": [
              "<Figure size 798.125x720 with 1 Axes>"
            ],
            "image/png": "[encoded data removed]"
          },
          "metadata": {
            "needs_background": "light"
          }
        }
      ]
    },
    {
      "cell_type": "markdown",
      "source": [
        "Из представления видно, что специалисты уровня Senior получают большую зарплату, чем уровня Junior. Гипотеза верна."
      ],
      "metadata": {
        "id": "MJddV4ScPPe0"
      }
    },
    {
      "cell_type": "markdown",
      "source": [
        "Составим матрицу корреляции используя метод corr()"
      ],
      "metadata": {
        "id": "vI0uyns2xiaZ"
      }
    },
    {
      "cell_type": "code",
      "source": [
        "data[['work_year', 'salary', 'salary_in_usd', 'remote_ratio']].corr()"
      ],
      "metadata": {
        "colab": {
          "base_uri": "https://localhost:8080/",
          "height": 175
        },
        "id": "HDMz52NfhlM5",
        "outputId": "0c6aa1d0-a184-4fda-95af-72cebb0d2777"
      },
      "execution_count": 83,
      "outputs": [
        {
          "output_type": "execute_result",
          "data": {
            "text/plain": [
              "               work_year    salary  salary_in_usd  remote_ratio\n",
              "work_year       1.000000 -0.087577       0.284463      0.076314\n",
              "salary         -0.087577  1.000000      -0.112184     -0.014608\n",
              "salary_in_usd   0.284463 -0.112184       1.000000      0.141323\n",
              "remote_ratio    0.076314 -0.014608       0.141323      1.000000"
            ],
            "text/html": [
              "\n",
              "  <div id=\"df-911e28ca-5758-4062-bdb1-615c7c7be82a\">\n",
              "    <div class=\"colab-df-container\">\n",
              "      <div>\n",
              "<style scoped>\n",
              "    .dataframe tbody tr th:only-of-type {\n",
              "        vertical-align: middle;\n",
              "    }\n",
              "\n",
              "    .dataframe tbody tr th {\n",
              "        vertical-align: top;\n",
              "    }\n",
              "\n",
              "    .dataframe thead th {\n",
              "        text-align: right;\n",
              "    }\n",
              "</style>\n",
              "<table border=\"1\" class=\"dataframe\">\n",
              "  <thead>\n",
              "    <tr style=\"text-align: right;\">\n",
              "      <th></th>\n",
              "      <th>work_year</th>\n",
              "      <th>salary</th>\n",
              "      <th>salary_in_usd</th>\n",
              "      <th>remote_ratio</th>\n",
              "    </tr>\n",
              "  </thead>\n",
              "  <tbody>\n",
              "    <tr>\n",
              "      <th>work_year</th>\n",
              "      <td>1.000000</td>\n",
              "      <td>-0.087577</td>\n",
              "      <td>0.284463</td>\n",
              "      <td>0.076314</td>\n",
              "    </tr>\n",
              "    <tr>\n",
              "      <th>salary</th>\n",
              "      <td>-0.087577</td>\n",
              "      <td>1.000000</td>\n",
              "      <td>-0.112184</td>\n",
              "      <td>-0.014608</td>\n",
              "    </tr>\n",
              "    <tr>\n",
              "      <th>salary_in_usd</th>\n",
              "      <td>0.284463</td>\n",
              "      <td>-0.112184</td>\n",
              "      <td>1.000000</td>\n",
              "      <td>0.141323</td>\n",
              "    </tr>\n",
              "    <tr>\n",
              "      <th>remote_ratio</th>\n",
              "      <td>0.076314</td>\n",
              "      <td>-0.014608</td>\n",
              "      <td>0.141323</td>\n",
              "      <td>1.000000</td>\n",
              "    </tr>\n",
              "  </tbody>\n",
              "</table>\n",
              "</div>\n",
              "      <button class=\"colab-df-convert\" onclick=\"convertToInteractive('df-911e28ca-5758-4062-bdb1-615c7c7be82a')\"\n",
              "              title=\"Convert this dataframe to an interactive table.\"\n",
              "              style=\"display:none;\">\n",
              "        \n",
              "  <svg xmlns=\"http://www.w3.org/2000/svg\" height=\"24px\"viewBox=\"0 0 24 24\"\n",
              "       width=\"24px\">\n",
              "    <path d=\"M0 0h24v24H0V0z\" fill=\"none\"/>\n",
              "    <path d=\"M18.56 5.44l.94 2.06.94-2.06 2.06-.94-2.06-.94-.94-2.06-.94 2.06-2.06.94zm-11 1L8.5 8.5l.94-2.06 2.06-.94-2.06-.94L8.5 2.5l-.94 2.06-2.06.94zm10 10l.94 2.06.94-2.06 2.06-.94-2.06-.94-.94-2.06-.94 2.06-2.06.94z\"/><path d=\"M17.41 7.96l-1.37-1.37c-.4-.4-.92-.59-1.43-.59-.52 0-1.04.2-1.43.59L10.3 9.45l-7.72 7.72c-.78.78-.78 2.05 0 2.83L4 21.41c.39.39.9.59 1.41.59.51 0 1.02-.2 1.41-.59l7.78-7.78 2.81-2.81c.8-.78.8-2.07 0-2.86zM5.41 20L4 18.59l7.72-7.72 1.47 1.35L5.41 20z\"/>\n",
              "  </svg>\n",
              "      </button>\n",
              "      \n",
              "  <style>\n",
              "    .colab-df-container {\n",
              "      display:flex;\n",
              "      flex-wrap:wrap;\n",
              "      gap: 12px;\n",
              "    }\n",
              "\n",
              "    .colab-df-convert {\n",
              "      background-color: #E8F0FE;\n",
              "      border: none;\n",
              "      border-radius: 50%;\n",
              "      cursor: pointer;\n",
              "      display: none;\n",
              "      fill: #1967D2;\n",
              "      height: 32px;\n",
              "      padding: 0 0 0 0;\n",
              "      width: 32px;\n",
              "    }\n",
              "\n",
              "    .colab-df-convert:hover {\n",
              "      background-color: #E2EBFA;\n",
              "      box-shadow: 0px 1px 2px rgba(60, 64, 67, 0.3), 0px 1px 3px 1px rgba(60, 64, 67, 0.15);\n",
              "      fill: #174EA6;\n",
              "    }\n",
              "\n",
              "    [theme=dark] .colab-df-convert {\n",
              "      background-color: #3B4455;\n",
              "      fill: #D2E3FC;\n",
              "    }\n",
              "\n",
              "    [theme=dark] .colab-df-convert:hover {\n",
              "      background-color: #434B5C;\n",
              "      box-shadow: 0px 1px 3px 1px rgba(0, 0, 0, 0.15);\n",
              "      filter: drop-shadow(0px 1px 2px rgba(0, 0, 0, 0.3));\n",
              "      fill: #FFFFFF;\n",
              "    }\n",
              "  </style>\n",
              "\n",
              "      <script>\n",
              "        const buttonEl =\n",
              "          document.querySelector('#df-911e28ca-5758-4062-bdb1-615c7c7be82a button.colab-df-convert');\n",
              "        buttonEl.style.display =\n",
              "          google.colab.kernel.accessAllowed ? 'block' : 'none';\n",
              "\n",
              "        async function convertToInteractive(key) {\n",
              "          const element = document.querySelector('#df-911e28ca-5758-4062-bdb1-615c7c7be82a');\n",
              "          const dataTable =\n",
              "            await google.colab.kernel.invokeFunction('convertToInteractive',\n",
              "                                                     [key], {});\n",
              "          if (!dataTable) return;\n",
              "\n",
              "          const docLinkHtml = 'Like what you see? Visit the ' +\n",
              "            '<a target=\"_blank\" href=https://colab.research.google.com/notebooks/data_table.ipynb>data table notebook</a>'\n",
              "            + ' to learn more about interactive tables.';\n",
              "          element.innerHTML = '';\n",
              "          dataTable['output_type'] = 'display_data';\n",
              "          await google.colab.output.renderOutput(dataTable, element);\n",
              "          const docLink = document.createElement('div');\n",
              "          docLink.innerHTML = docLinkHtml;\n",
              "          element.appendChild(docLink);\n",
              "        }\n",
              "      </script>\n",
              "    </div>\n",
              "  </div>\n",
              "  "
            ]
          },
          "metadata": {},
          "execution_count": 83
        }
      ]
    },
    {
      "cell_type": "markdown",
      "source": [
        "Вычислим показатели корреляции - ковариацию. Ковариация показывает меру линейной зависимости случайных величин.\n",
        "\n",
        "Посчитаем ковариацию между зарплатой в долларах и годом работы."
      ],
      "metadata": {
        "id": "lB8QvEKfxFdJ"
      }
    },
    {
      "cell_type": "code",
      "source": [
        "X = data['salary_in_usd']\n",
        "Y = data['work_year']\n",
        "\n",
        "MX = X.mean()\n",
        "MY = Y.mean()\n",
        "\n",
        "cov = ((X - MX) * (Y - MY)).mean()\n",
        "cov"
      ],
      "metadata": {
        "colab": {
          "base_uri": "https://localhost:8080/"
        },
        "id": "_V02C_Y8zAth",
        "outputId": "4f4bc55e-a71a-4ff7-c172-236d6b854d9f"
      },
      "execution_count": 84,
      "outputs": [
        {
          "output_type": "execute_result",
          "data": {
            "text/plain": [
              "10986.057723049866"
            ]
          },
          "metadata": {},
          "execution_count": 84
        }
      ]
    },
    {
      "cell_type": "markdown",
      "source": [
        "Тоже самое можно посчитать используя другую формулу:"
      ],
      "metadata": {
        "id": "2ejypu_iz_4s"
      }
    },
    {
      "cell_type": "code",
      "source": [
        "cov = (X * Y).mean() - MX * MY\n",
        "cov"
      ],
      "metadata": {
        "colab": {
          "base_uri": "https://localhost:8080/"
        },
        "id": "lhhFEnKy0FBL",
        "outputId": "0c62d489-28ca-4b1a-f082-b53b55db7a87"
      },
      "execution_count": 85,
      "outputs": [
        {
          "output_type": "execute_result",
          "data": {
            "text/plain": [
              "10986.057723075151"
            ]
          },
          "metadata": {},
          "execution_count": 85
        }
      ]
    },
    {
      "cell_type": "markdown",
      "source": [
        "Значения почти совпадают, хотя, не совсем. Это обусловлено тем, что приведённые выше формулы задают одну и ту же характеристику случайной величины, однако, в случае выборочного оценивания не совсем равны."
      ],
      "metadata": {
        "id": "1O3Xpjui4B2T"
      }
    },
    {
      "cell_type": "markdown",
      "source": [
        "Можем посчитать ковариацию с помощью готовой функции numpy.cov:"
      ],
      "metadata": {
        "id": "TdCJsvE-0nJj"
      }
    },
    {
      "cell_type": "code",
      "source": [
        "X.var()"
      ],
      "metadata": {
        "colab": {
          "base_uri": "https://localhost:8080/"
        },
        "id": "tf2JIHJF0rGy",
        "outputId": "bda5f9b8-8224-48bd-daf9-80b3c9a4aefc"
      },
      "execution_count": 86,
      "outputs": [
        {
          "output_type": "execute_result",
          "data": {
            "text/plain": [
              "3123816922.163168"
            ]
          },
          "metadata": {},
          "execution_count": 86
        }
      ]
    },
    {
      "cell_type": "code",
      "source": [
        "Y.var()"
      ],
      "metadata": {
        "colab": {
          "base_uri": "https://localhost:8080/"
        },
        "id": "c1ctf4DR0zA1",
        "outputId": "6bee1340-5fd9-425d-e951-0b84ae0862a4"
      },
      "execution_count": 87,
      "outputs": [
        {
          "output_type": "execute_result",
          "data": {
            "text/plain": [
              "0.479048069551601"
            ]
          },
          "metadata": {},
          "execution_count": 87
        }
      ]
    },
    {
      "cell_type": "code",
      "source": [
        "cov2 = np.cov(X, Y)\n",
        "cov2"
      ],
      "metadata": {
        "colab": {
          "base_uri": "https://localhost:8080/"
        },
        "id": "_HDFUHX801Cq",
        "outputId": "051a3767-a8dd-486e-df7b-25d9736f6ef7"
      },
      "execution_count": 88,
      "outputs": [
        {
          "output_type": "execute_result",
          "data": {
            "text/plain": [
              "array([[3.12381692e+09, 1.10041865e+04],\n",
              "       [1.10041865e+04, 4.79048070e-01]])"
            ]
          },
          "metadata": {},
          "execution_count": 88
        }
      ]
    },
    {
      "cell_type": "code",
      "source": [
        "cov2[0][1] == cov"
      ],
      "metadata": {
        "colab": {
          "base_uri": "https://localhost:8080/"
        },
        "id": "XDsytfEA1wqh",
        "outputId": "522736d7-47b6-4228-eee3-0cf0db0a8bad"
      },
      "execution_count": 89,
      "outputs": [
        {
          "output_type": "execute_result",
          "data": {
            "text/plain": [
              "False"
            ]
          },
          "metadata": {},
          "execution_count": 89
        }
      ]
    },
    {
      "cell_type": "markdown",
      "source": [
        "Функция cov() возвращает не значение ковариации, а т.н. матрицу ковариаций. В ней по диагонали стоят вариации (т.е. дисперсии) каждой из выборок, а вне диагонали - попарные ковариации.\n",
        "\n",
        "Отметим, что значение ковариации массивов X и Y теперь уже заметно отличаются от посчитанных выше. Это связано с тем, что, как и для дисперсии и среднего квадратического отклонения, оценка ковариации, следующая из формул выше, является смещённой. Несмещённую оценку можно посчитать с помощью первой формулы, если в знаменатель подставить не n, а n - 1"
      ],
      "metadata": {
        "id": "nFRInIA03nRu"
      }
    },
    {
      "cell_type": "code",
      "source": [
        "cov = ((X - MX) * (Y - MY)).sum() / (X.shape[0] - 1)\n",
        "cov"
      ],
      "metadata": {
        "colab": {
          "base_uri": "https://localhost:8080/"
        },
        "id": "p91sKx9O4pno",
        "outputId": "cab758c9-89cf-4267-fa2c-c0c35149908e"
      },
      "execution_count": 90,
      "outputs": [
        {
          "output_type": "execute_result",
          "data": {
            "text/plain": [
              "11004.186531173711"
            ]
          },
          "metadata": {},
          "execution_count": 90
        }
      ]
    },
    {
      "cell_type": "markdown",
      "source": [
        "Значение ковариации случайных величин сильно зависит от уровня разброса каждой из величин.\n",
        "\n",
        "Поэтому в качестве числовой характеристики зависимости случайных величин лучше использовать коэффициент корреляции Пирсона. \n",
        "\n",
        "Посчитаем коэффициент корреляции:"
      ],
      "metadata": {
        "id": "5qSlTXSC5MgJ"
      }
    },
    {
      "cell_type": "code",
      "source": [
        "corr = cov / (X.std() * Y.std())\n",
        "corr"
      ],
      "metadata": {
        "colab": {
          "base_uri": "https://localhost:8080/"
        },
        "id": "dQMp1UAf5t8P",
        "outputId": "594b8e08-fbe4-47cf-b903-4633c2626783"
      },
      "execution_count": 91,
      "outputs": [
        {
          "output_type": "execute_result",
          "data": {
            "text/plain": [
              "0.28446288458170693"
            ]
          },
          "metadata": {},
          "execution_count": 91
        }
      ]
    },
    {
      "cell_type": "markdown",
      "source": [
        "Ту же самую матрицу корреляций можно получить с помощью функции numpy.corrcoef."
      ],
      "metadata": {
        "id": "np150j5A6S14"
      }
    },
    {
      "cell_type": "code",
      "source": [
        "np.corrcoef(X, Y)"
      ],
      "metadata": {
        "colab": {
          "base_uri": "https://localhost:8080/"
        },
        "id": "N7nJy0Uu6Nmo",
        "outputId": "779bc080-1315-4bdc-c442-bd429044bfa1"
      },
      "execution_count": 92,
      "outputs": [
        {
          "output_type": "execute_result",
          "data": {
            "text/plain": [
              "array([[1.        , 0.28446288],\n",
              "       [0.28446288, 1.        ]])"
            ]
          },
          "metadata": {},
          "execution_count": 92
        }
      ]
    }
  ]
}